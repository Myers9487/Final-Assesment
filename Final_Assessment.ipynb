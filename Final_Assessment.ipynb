{
  "metadata": {
    "language_info": {
      "codemirror_mode": {
        "name": "python",
        "version": 3
      },
      "file_extension": ".py",
      "mimetype": "text/x-python",
      "name": "python",
      "nbconvert_exporter": "python",
      "pygments_lexer": "ipython3",
      "version": "3.8"
    },
    "kernelspec": {
      "name": "python",
      "display_name": "Pyolite",
      "language": "python"
    }
  },
  "nbformat_minor": 4,
  "nbformat": 4,
  "cells": [
    {
      "cell_type": "markdown",
      "source": "# My Jupyter Notebook on IBM Watson Studio \n\n",
      "metadata": {}
    },
    {
      "cell_type": "markdown",
      "source": "**Tierra Myers**\n",
      "metadata": {}
    },
    {
      "cell_type": "markdown",
      "source": "Business Analyst ",
      "metadata": {}
    },
    {
      "cell_type": "markdown",
      "source": "_Data Science grabs my attention in so many ways because our world is made by data. Comparing and contrasting information to see trends for possible stakeholders will be beneficial to my business endeavors._",
      "metadata": {}
    },
    {
      "cell_type": "markdown",
      "source": "### Two Plus Two Equals Four.",
      "metadata": {}
    },
    {
      "cell_type": "code",
      "source": "2+2",
      "metadata": {
        "trusted": true
      },
      "execution_count": 8,
      "outputs": [
        {
          "execution_count": 8,
          "output_type": "execute_result",
          "data": {
            "text/plain": "4"
          },
          "metadata": {}
        }
      ]
    },
    {
      "cell_type": "markdown",
      "source": "[I'm an inline-style link](https://www.google.com)",
      "metadata": {}
    },
    {
      "cell_type": "markdown",
      "source": "![alt text](https://github.com/adam-p/markdown-here/raw/master/src/common/images/icon48.png \"Logo Title Text 1\")",
      "metadata": {}
    },
    {
      "cell_type": "markdown",
      "source": "```javascript\nvar s = \"JavaScript syntax highlighting\";\nalert(s);\n```",
      "metadata": {}
    },
    {
      "cell_type": "code",
      "source": "",
      "metadata": {},
      "execution_count": null,
      "outputs": []
    }
  ]
}